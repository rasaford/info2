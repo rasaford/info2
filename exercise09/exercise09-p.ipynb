{
 "cells": [
  {
   "cell_type": "markdown",
   "metadata": {},
   "source": [
    "### Assignment 9.1 (P) (Delayed) evaluation, unit, side-effects, pure functions\n",
    "\n",
    "We can see let-bindings as functions without any arguments. Therefore they can and will be immediately evaluated.\n",
    "If we want to delay evaluation of the bound expression until application, we can introduce an argument. However, if there are no free variables in our expression, we just need some dummy argument. To indicate this, we use the type `unit` which has only one value `()` (which can be seen as the empty tuple).\n",
    "\n",
    "Discuss this difference between the following two expressions"
   ]
  },
  {
   "cell_type": "code",
   "execution_count": null,
   "metadata": {},
   "outputs": [],
   "source": [
    "let x = print_endline \"foo\" in x, x"
   ]
  },
  {
   "cell_type": "code",
   "execution_count": null,
   "metadata": {},
   "outputs": [],
   "source": [
    "let x () = print_endline \"foo\" in x (), x ()"
   ]
  },
  {
   "cell_type": "markdown",
   "metadata": {},
   "source": [
    "1. What are side-effects? Give some examples.\n",
    "2. What are pure functions? What are their benefits?\n",
    "3. Why does delaying evaluation only make sense in case of side-effects?\n",
    "4. Why do we want to use `()` instead of some unused variable?"
   ]
  },
  {
   "cell_type": "markdown",
   "metadata": {},
   "source": [
    "### Assignment 9.2 (P) Students in, students out!\n",
    "\n",
    "Once again, we consider our student records:"
   ]
  },
  {
   "cell_type": "code",
   "execution_count": null,
   "metadata": {},
   "outputs": [],
   "source": [
    "type student = {\n",
    "    first_name : string;\n",
    "    last_name : string;\n",
    "    id : int;\n",
    "    semester : int;\n",
    "    grades : (int * float) list\n",
    "}\n",
    "\n",
    "type database = student list"
   ]
  },
  {
   "cell_type": "markdown",
   "metadata": {},
   "source": [
    "Now, we define a file format to store students that, for each student, contains a line \n",
    "\n",
    "<i>first_name</i>;<i>last_name</i>;<i>id</i>;<i>semester</i>;<i>gc</i>\n",
    "\n",
    "where <i>gc</i> number of lines\n",
    "\n",
    "<i>course</i>;<i>grade</i>\n",
    "\n",
    "follow with grades.\n",
    "\n",
    "1) Implement a function `load_db : string -> database` to load the students from the given file. Throw an exception `Corrupt_database_file` if something is wrong with the file.\n",
    "\n",
    "2) Implement a function `store_db : string -> database -> unit` to store the students back to the given file."
   ]
  }
 ],
 "metadata": {
  "kernelspec": {
   "display_name": "OCaml 4.07.0",
   "language": "OCaml",
   "name": "ocaml-jupyter"
  },
  "language_info": {
   "codemirror_mode": "text/x-ocaml",
   "file_extension": ".ml",
   "mimetype": "text/x-ocaml",
   "name": "OCaml",
   "nbconverter_exporter": null,
   "pygments_lexer": "OCaml",
   "version": "4.07.0"
  }
 },
 "nbformat": 4,
 "nbformat_minor": 2
}
