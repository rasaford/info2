{
 "cells": [
  {
   "cell_type": "markdown",
   "metadata": {},
   "source": [
    "### Assignment 8.1 (P) Partial Application\n",
    "\n",
    "Types of n-ary functions are denoted as `arg_1 -> ... -> arg_n -> ret` in OCaml. \n",
    "\n",
    "1) Discuss, why this notation is indeed meaningful.\n",
    "\n",
    "2) Give the types of these expressions and discuss to what they evaluate:"
   ]
  },
  {
   "cell_type": "code",
   "execution_count": null,
   "metadata": {},
   "outputs": [],
   "source": [
    "let a (* : todo *) = (fun a b c -> c (a + b)) 3 \n",
    "\n",
    "let b (* : todo *) = (fun a b -> (+) b) \n",
    "\n",
    "let c (* : todo *) = (fun a b c -> b (c a) :: [a]) \"x\" \n",
    "\n",
    "let d (* : todo *) = (fun a b -> List.fold_left b 1 (List.map ( * ) a))\n",
    "\n",
    "let e (* : todo *) = (let x = List.map in x (<))"
   ]
  },
  {
   "cell_type": "markdown",
   "metadata": {},
   "source": [
    "### Assignment 8.2 (P) Tail Recursion\n",
    "\n",
    "1) Check which of the following functions are tail recursive:"
   ]
  },
  {
   "cell_type": "code",
   "execution_count": null,
   "metadata": {},
   "outputs": [],
   "source": [
    "let rec f a = match a with [] -> a \n",
    "    | x::xs -> (x+1)::f xs\n",
    "\n",
    "let rec g a b = if a = b then 0 \n",
    "    else if a < b then g (a+1) b \n",
    "    else g (a-1) b\n",
    "\n",
    "let rec h a b c = if b then h a (not b) (c * 2) \n",
    "    else if c > 1000 then a \n",
    "    else h (a+2) (not b) c * 2\n",
    "\n",
    "let rec i a = function [] -> a \n",
    "    | x::xs -> i (i (x,x) [x]) xs"
   ]
  },
  {
   "cell_type": "markdown",
   "metadata": {},
   "source": [
    "2) Write tail recursive versions of the following functions (without changing their types):"
   ]
  },
  {
   "cell_type": "code",
   "execution_count": null,
   "metadata": {},
   "outputs": [],
   "source": [
    "let rec fac n = if n < 2 then 1 \n",
    "    else n * fac (n-1)\n",
    "\n",
    "let rec remove a = function [] -> []\n",
    "    | x::xs -> if x = a then remove a xs else x::remove a xs\n",
    "    \n",
    "let rec partition f l = match l with [] -> [],[]\n",
    "    | x::xs -> let a,b = partition f xs in\n",
    "        if f x then x::a,b else a,x::b"
   ]
  },
  {
   "cell_type": "code",
   "execution_count": null,
   "metadata": {},
   "outputs": [],
   "source": [
    "let fac n = failwith \"todo\"\n",
    "    \n",
    "let remove a l = failwith \"todo\"\n",
    "\n",
    "let partition f l = failwith \"todo\""
   ]
  },
  {
   "cell_type": "markdown",
   "metadata": {},
   "source": [
    "### Assignment 8.3 (P) Lazy Lists\n",
    "\n",
    "Infinite data structures (e.g. lists) can be realized using the concept of **lazy evaluation**. Instead of constructing the entire data structure immediately, we only construct a small part and keep us a means to construct more on demand. "
   ]
  },
  {
   "cell_type": "code",
   "execution_count": null,
   "metadata": {},
   "outputs": [],
   "source": [
    "type 'a llist = Cons of 'a * (unit -> 'a llist)"
   ]
  },
  {
   "cell_type": "markdown",
   "metadata": {},
   "source": [
    "1) Implement the function `lnat : int -> int llist` that constructs the list of all natural numbers starting at the given argument.\n",
    "\n",
    "2) Implement the function `lfib : unit -> int llist` that constructs a list containing the Fibonacci sequence. "
   ]
  },
  {
   "cell_type": "code",
   "execution_count": null,
   "metadata": {},
   "outputs": [],
   "source": [
    "let lnat i = failwith \"todo\"\n",
    "\n",
    "let lfib () = failwith \"todo\""
   ]
  },
  {
   "cell_type": "markdown",
   "metadata": {},
   "source": [
    "3) Implement the function `ltake : int -> 'a llist -> 'a list` that returns the first $n$ elements of the list.\n",
    "\n",
    "4) Implement the function `lfilter : ('a -> bool) -> 'a llist -> 'a llist` to filter those elements from the list that do not satisfy the given predicate. "
   ]
  },
  {
   "cell_type": "code",
   "execution_count": null,
   "metadata": {},
   "outputs": [],
   "source": [
    "let ltake n l = failwith \"todo\"\n",
    "\n",
    "let lfilter f l = failwith \"todo\""
   ]
  },
  {
   "cell_type": "markdown",
   "metadata": {},
   "source": [
    "### Assignment 8.4 (P) Little Helpers\n",
    "\n",
    "Consider the following functions. \n",
    "\n",
    "* `(%) : ('a -> 'b) -> ('c -> 'a) -> 'c -> 'b`\n",
    "* `(@@) : ('a -> 'b) -> 'a -> 'b`\n",
    "* `(|>) : 'a -> ('a -> 'b) -> 'b`\n",
    "\n",
    "1) Try to find their implementation just from the types:"
   ]
  },
  {
   "cell_type": "code",
   "execution_count": null,
   "metadata": {},
   "outputs": [],
   "source": [
    "let (%) = failwith \"todo\"\n",
    "\n",
    "let (@@) = failwith \"todo\"\n",
    "\n",
    "let (|>) = failwith \"todo\""
   ]
  },
  {
   "cell_type": "markdown",
   "metadata": {},
   "source": [
    "2) When is it possible to derive the implementation from the type?"
   ]
  },
  {
   "cell_type": "markdown",
   "metadata": {},
   "source": [
    "3) Give an example where these operators could be used."
   ]
  }
 ],
 "metadata": {
  "kernelspec": {
   "display_name": "OCaml 4.07.0",
   "language": "OCaml",
   "name": "ocaml-jupyter"
  },
  "language_info": {
   "codemirror_mode": "text/x-ocaml",
   "file_extension": ".ml",
   "mimetype": "text/x-ocaml",
   "name": "OCaml",
   "nbconverter_exporter": null,
   "pygments_lexer": "OCaml",
   "version": "4.07.0"
  }
 },
 "nbformat": 4,
 "nbformat_minor": 2
}
