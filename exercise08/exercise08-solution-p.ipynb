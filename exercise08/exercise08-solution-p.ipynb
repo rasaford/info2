{
 "cells": [
  {
   "cell_type": "markdown",
   "metadata": {},
   "source": [
    "### Assignment 8.1 (P) Partial Application\n",
    "\n",
    "Types of n-ary functions are denoted as `arg_1 -> ... -> arg_n -> ret` in OCaml. \n",
    "\n",
    "1) Discuss, why this notation is indeed meaningful.\n",
    "\n",
    "An n-ary function can be considered as an unary function that returns an (n-1)-ary function. Every function with multiple arguments can thus be treated as a sequence of applications of unary functions: `arg_1 -> (arg_2 -> ... (arg_n -> ret) ... )`. In fact, a definition `let foo a b c = a + b + c` is just a more convenient way to write `let foo = fun a -> fun b -> fun c -> a + b + c`.\n",
    "\n",
    "2) Give the types of these expressions and discuss to what they evaluate:"
   ]
  },
  {
   "cell_type": "code",
   "execution_count": null,
   "metadata": {},
   "outputs": [],
   "source": [
    "let a : int -> (int -> 'a) -> 'a = (fun a b c -> c (a + b)) 3 \n",
    "    (* fun b c -> c (3 + b) *)\n",
    "\n",
    "let b : 'a -> int -> int -> int = (fun a b -> (+) b) \n",
    "    (* fun a b i1 -> b + i1 *)\n",
    "\n",
    "let c : ('a -> string) -> (string -> 'a) -> string list\n",
    "    = (fun a b c -> b (c a) :: [a]) \"x\" \n",
    "    (* fun b c -> [b (c \"x\"); \"x\"] *)\n",
    "\n",
    "let d : int list -> (int -> (int -> int) -> int) -> int\n",
    "    = (fun a b -> List.fold_left b 1 (List.map ( * ) a))\n",
    "    (* fun a b -> List.fold_left b 1 (List.map ( * ) a ) *)\n",
    "\n",
    "let e : 'a list -> ('a -> bool) list = (let x = List.map in x (<))\n",
    "    (* fun l -> List.map (<) l *)"
   ]
  },
  {
   "cell_type": "markdown",
   "metadata": {},
   "source": [
    "### Assignment 8.2 (P) Tail Recursion\n",
    "\n",
    "1) Check which of the following functions are tail recursive:"
   ]
  },
  {
   "cell_type": "code",
   "execution_count": null,
   "metadata": {},
   "outputs": [],
   "source": [
    "let rec f a = match a with [] -> a \n",
    "    | x::xs -> (x+1)::f xs\n",
    "\n",
    "let rec g a b = if a = b then 0 \n",
    "    else if a < b then g (a+1) b \n",
    "    else g (a-1) b\n",
    "\n",
    "let rec h a b c = if b then h a (not b) (c * 2) \n",
    "    else if c > 1000 then a \n",
    "    else h (a+2) (not b) c * 2\n",
    "\n",
    "let rec i a = function [] -> a \n",
    "    | x::xs -> i (i (x,x) [x]) xs"
   ]
  },
  {
   "cell_type": "markdown",
   "metadata": {},
   "source": [
    "2) Write tail recursive versions of the following functions (without changing their types):"
   ]
  },
  {
   "cell_type": "code",
   "execution_count": null,
   "metadata": {},
   "outputs": [],
   "source": [
    "let rec fac n = if n < 2 then 1 \n",
    "    else n * fac (n-1)\n",
    "\n",
    "let rec remove a = function [] -> []\n",
    "    | x::xs -> if x = a then remove a xs else x::remove a xs\n",
    "    \n",
    "let rec partition f l = match l with [] -> [],[]\n",
    "    | x::xs -> let a,b = partition f xs in\n",
    "        if f x then x::a,b else a,x::b"
   ]
  },
  {
   "cell_type": "code",
   "execution_count": null,
   "metadata": {},
   "outputs": [],
   "source": [
    "let fac n = \n",
    "    let rec impl n acc = if n < 2 then acc \n",
    "        else impl (n-1) (acc * n)\n",
    "    in\n",
    "    impl n 1\n",
    "    \n",
    "let remove a l = \n",
    "    let rec impl l acc = \n",
    "        match l with [] -> acc\n",
    "        | x::xs -> if x = a then impl xs acc \n",
    "            else impl xs (x::acc)\n",
    "    in\n",
    "    List.rev (impl l [])\n",
    "(* or: *)\n",
    "let remove a l = List.rev (List.fold_left \n",
    "    (fun acc x -> if x = a then acc else x::acc) [] l)\n",
    "\n",
    "let partition f l = \n",
    "    let rec impl l (a,b) =\n",
    "        match l with [] -> (a,b)\n",
    "        | x::xs -> impl xs (if f x then x::a,b else a,x::b)\n",
    "    in\n",
    "    let r = impl l ([],[]) in\n",
    "    List.rev (fst r), List.rev (snd r)"
   ]
  },
  {
   "cell_type": "markdown",
   "metadata": {},
   "source": [
    "### Assignment 8.3 (P) Lazy Lists\n",
    "\n",
    "Infinite data structures (e.g. lists) can be realized using the concept of **lazy evaluation**. Instead of constructing the entire data structure immediately, we only construct a small part and keep us a means to construct more on demand. "
   ]
  },
  {
   "cell_type": "code",
   "execution_count": null,
   "metadata": {},
   "outputs": [],
   "source": [
    "type 'a llist = Cons of 'a * (unit -> 'a llist)"
   ]
  },
  {
   "cell_type": "markdown",
   "metadata": {},
   "source": [
    "1) Implement the function `lnat : int -> int llist` that constructs the list of all natural numbers starting at the given argument.\n",
    "\n",
    "2) Implement the function `lfib : unit -> int llist` that constructs a list containing the Fibonacci sequence. "
   ]
  },
  {
   "cell_type": "code",
   "execution_count": null,
   "metadata": {},
   "outputs": [],
   "source": [
    "let rec lnat i = Cons (i, (fun () -> lnat (i + 1)))\n",
    "\n",
    "let lfib () = \n",
    "    let rec impl a b = Cons (a, fun () -> impl b (a+b))\n",
    "    in\n",
    "    impl 0 1"
   ]
  },
  {
   "cell_type": "markdown",
   "metadata": {},
   "source": [
    "3) Implement the function `ltake : int -> 'a llist -> 'a list` that returns the first $n$ elements of the list.\n",
    "\n",
    "4) Implement the function `lfilter : ('a -> bool) -> 'a llist -> 'a llist` to filter those elements from the list that do not satisfy the given predicate. "
   ]
  },
  {
   "cell_type": "code",
   "execution_count": null,
   "metadata": {},
   "outputs": [],
   "source": [
    "let rec ltake n (Cons (h, t)) = \n",
    "    if n <= 0 then [] else h::ltake (n-1) (t ())\n",
    "    \n",
    "let rec lfilter f (Cons (h, t)) = \n",
    "    if f h then Cons (h, fun () -> lfilter f (t ()))\n",
    "    else lfilter f (t ())"
   ]
  },
  {
   "cell_type": "markdown",
   "metadata": {},
   "source": [
    "### Assignment 8.4 (P) Little Helpers\n",
    "\n",
    "Consider the following functions. \n",
    "\n",
    "* `(%) : ('a -> 'b) -> ('c -> 'a) -> 'c -> 'b`\n",
    "* `(@@) : ('a -> 'b) -> 'a -> 'b`\n",
    "* `(|>) : 'a -> ('a -> 'b) -> 'b`\n",
    "\n",
    "1) Try to find their implementation just from the types:"
   ]
  },
  {
   "cell_type": "code",
   "execution_count": null,
   "metadata": {},
   "outputs": [],
   "source": [
    "let (%) f g x = f (g x)\n",
    "\n",
    "let (@@) f x = f x\n",
    "\n",
    "let (|>) x f = f x"
   ]
  },
  {
   "cell_type": "markdown",
   "metadata": {},
   "source": [
    "2) When is it possible to derive the implementation from the type?"
   ]
  },
  {
   "cell_type": "markdown",
   "metadata": {},
   "source": [
    "Assuming we use no side-effects:\n",
    "For types `x` and `y`, a pure function `x -> y` has `|x| * |y|` possible implementations (where `|x|` indicates the number of values of type `x`).\n",
    "Example for a function `bool -> bool`:"
   ]
  },
  {
   "cell_type": "code",
   "execution_count": null,
   "metadata": {},
   "outputs": [],
   "source": [
    "let implementations = [\n",
    "    (fun _ -> true);\n",
    "    (fun _ -> false);\n",
    "    (fun x -> x);\n",
    "    (fun x -> not x);\n",
    "]"
   ]
  },
  {
   "cell_type": "markdown",
   "metadata": {},
   "source": [
    "Since a polymorphic type could be any type (e.g. also `unit`), we don't know about its values, and since we can't inspect them, we also can't match on them. Therefore, for pure functions that don't have any concrete type in the signature, there is only one possible implementation."
   ]
  },
  {
   "cell_type": "markdown",
   "metadata": {},
   "source": [
    "3) Give an example where these operators could be used."
   ]
  },
  {
   "cell_type": "code",
   "execution_count": null,
   "metadata": {},
   "outputs": [],
   "source": [
    "List.map (string_of_int % fst) [(1,'a'); (2,'b'); (3,'c')]\n",
    "(* instead of\n",
    "List.map (fun x -> string_of_int (fst x)) [(1,'a'); (2,'b'); (3,'c')]\n",
    "*)"
   ]
  },
  {
   "cell_type": "code",
   "execution_count": null,
   "metadata": {},
   "outputs": [],
   "source": [
    "String.concat \"\" @@ List.map string_of_int \n",
    "    @@ List.map fst [(1,'a'); (2,'b'); (3,'c')]\n",
    "(* instead of\n",
    "String.concat \"\" (List.map string_of_int \n",
    "    (List.map fst [(1,'a'); (2,'b'); (3,'c')]))\n",
    "*)"
   ]
  },
  {
   "cell_type": "code",
   "execution_count": null,
   "metadata": {},
   "outputs": [],
   "source": [
    "List.map fst [(1,'a'); (2,'b'); (3,'c')] \n",
    "    |> List.map string_of_int |> String.concat \"\"\n",
    "(* instead of\n",
    "String.concat \"\" (List.map string_of_int \n",
    "    (List.map fst [(1,'a'); (2,'b'); (3,'c')]))\n",
    "*)"
   ]
  }
 ],
 "metadata": {
  "kernelspec": {
   "display_name": "OCaml 4.07.0",
   "language": "OCaml",
   "name": "ocaml-jupyter"
  },
  "language_info": {
   "codemirror_mode": "text/x-ocaml",
   "file_extension": ".ml",
   "mimetype": "text/x-ocaml",
   "name": "OCaml",
   "nbconverter_exporter": null,
   "pygments_lexer": "OCaml",
   "version": "4.07.0"
  }
 },
 "nbformat": 4,
 "nbformat_minor": 2
}
